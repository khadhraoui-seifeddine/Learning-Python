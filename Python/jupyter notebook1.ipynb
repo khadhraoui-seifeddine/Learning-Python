{
 "cells": [
  {
   "attachments": {},
   "cell_type": "markdown",
   "metadata": {},
   "source": [
    "# some applictions of loops"
   ]
  },
  {
   "cell_type": "code",
   "execution_count": 16,
   "metadata": {},
   "outputs": [
    {
     "name": "stdout",
     "output_type": "stream",
     "text": [
      "10\n",
      "19\n",
      "27\n",
      "34\n",
      "40\n",
      "45\n",
      "49\n",
      "52\n",
      "54\n",
      "55\n"
     ]
    }
   ],
   "source": [
    "sum = 0\n",
    "x = 10\n",
    "while x > 0:\n",
    "  sum += x\n",
    "  x -= 1\n",
    "  print(sum)"
   ]
  },
  {
   "cell_type": "code",
   "execution_count": 2,
   "metadata": {},
   "outputs": [
    {
     "name": "stdout",
     "output_type": "stream",
     "text": [
      "3\n",
      "2\n",
      "1\n",
      "0\n"
     ]
    }
   ],
   "source": [
    "i = 3\n",
    "while i>=0:\n",
    "   print(i)\n",
    "   i = i - 1"
   ]
  },
  {
   "cell_type": "code",
   "execution_count": 8,
   "metadata": {},
   "outputs": [
    {
     "name": "stdout",
     "output_type": "stream",
     "text": [
      "1is odd\n",
      "2is even\n",
      "3is odd\n",
      "4is even\n",
      "5is odd\n",
      "6is even\n",
      "7is odd\n",
      "8is even\n",
      "9is odd\n",
      "10is even\n"
     ]
    }
   ],
   "source": [
    "x = 1\n",
    "while x <= 10:\n",
    "  if x%2==0:\n",
    "    print(str(x) + \"is even\")\n",
    "  else:\n",
    "    print(str(x) + \"is odd\")\n",
    "  x += 1"
   ]
  },
  {
   "cell_type": "code",
   "execution_count": 13,
   "metadata": {},
   "outputs": [
    {
     "name": "stdout",
     "output_type": "stream",
     "text": [
      "0\n",
      "2\n",
      "4\n",
      "6\n",
      "8\n",
      "10\n",
      "12\n",
      "14\n",
      "16\n",
      "18\n",
      "20\n"
     ]
    }
   ],
   "source": [
    "x = 0\n",
    "while x <= 20:\n",
    "    print(x)\n",
    "    x = x + 2"
   ]
  },
  {
   "cell_type": "code",
   "execution_count": 17,
   "metadata": {},
   "outputs": [
    {
     "name": "stdout",
     "output_type": "stream",
     "text": [
      "5\n",
      "4\n",
      "3\n",
      "2\n",
      "1\n"
     ]
    }
   ],
   "source": [
    "x = 5\n",
    "while x > 0:\n",
    "    print(x)\n",
    "    x = x - 1"
   ]
  },
  {
   "cell_type": "code",
   "execution_count": 25,
   "metadata": {},
   "outputs": [
    {
     "name": "stdout",
     "output_type": "stream",
     "text": [
      "0\n",
      "1\n",
      "2\n",
      "3\n",
      "4\n",
      "breaking\n",
      "Finished\n"
     ]
    }
   ],
   "source": [
    "i = 0\n",
    "while True:\n",
    "    print(i)\n",
    "    i = i + 1\n",
    "    if i >= 5:\n",
    "        print(\"breaking\")\n",
    "        break  \n",
    "print(\"Finished\")"
   ]
  },
  {
   "cell_type": "code",
   "execution_count": 26,
   "metadata": {},
   "outputs": [
    {
     "name": "stdout",
     "output_type": "stream",
     "text": [
      "5\n",
      "4\n",
      "3\n"
     ]
    }
   ],
   "source": [
    "i = 5\n",
    "while True:\n",
    "    print(i)\n",
    "    i = i - 1\n",
    "    if i <= 2:\n",
    "        break "
   ]
  },
  {
   "cell_type": "code",
   "execution_count": 28,
   "metadata": {},
   "outputs": [
    {
     "name": "stdout",
     "output_type": "stream",
     "text": [
      "1\n",
      "2\n",
      "Skipping 3\n",
      "4\n",
      "5\n"
     ]
    }
   ],
   "source": [
    "i = 0\n",
    "while i < 5:\n",
    "    i += 1\n",
    "    if i == 3:\n",
    "        print(\"Skipping 3\")\n",
    "        continue\n",
    "    print(i)"
   ]
  },
  {
   "cell_type": "code",
   "execution_count": 30,
   "metadata": {},
   "outputs": [
    {
     "name": "stdout",
     "output_type": "stream",
     "text": [
      "1\n",
      "3\n",
      "4\n"
     ]
    }
   ],
   "source": [
    "i = 0\n",
    "while True:\n",
    "    i += 1\n",
    "    if i == 2:\n",
    "        continue\n",
    "    if i == 5:\n",
    "        break\n",
    "    print (i)"
   ]
  },
  {
   "attachments": {},
   "cell_type": "markdown",
   "metadata": {},
   "source": [
    "### ticketing application"
   ]
  },
  {
   "cell_type": "code",
   "execution_count": 34,
   "metadata": {},
   "outputs": [
    {
     "name": "stdout",
     "output_type": "stream",
     "text": [
      "300\n"
     ]
    }
   ],
   "source": [
    "#The price of a single ticket is $100. For children under 3 years of age, the ticket is free.\n",
    "#This code  takes the ages of 5 passengers as input and output the total price for their tickets\n",
    "For children under 3 years of age, the ticket is free.\n",
    "total = 0\n",
    "x = 0\n",
    "while x < 5:\n",
    "    age = int(input())\n",
    "    if age > 3:\n",
    "        total += 100\n",
    "    x += 1\n",
    "print(total)"
   ]
  },
  {
   "cell_type": "code",
   "execution_count": 36,
   "metadata": {},
   "outputs": [
    {
     "name": "stdout",
     "output_type": "stream",
     "text": [
      "6\n"
     ]
    }
   ],
   "source": [
    "i = 0\n",
    "x = 0\n",
    "while i < 4 :\n",
    "    x+=i\n",
    "    i+=1\n",
    "print(x)"
   ]
  },
  {
   "cell_type": "code",
   "execution_count": 38,
   "metadata": {},
   "outputs": [
    {
     "name": "stdout",
     "output_type": "stream",
     "text": [
      "8\n"
     ]
    }
   ],
   "source": [
    "x = int(input())\n",
    "if x > 5:\n",
    "    if x < 8:\n",
    "        print(x+1)\n",
    "    else:\n",
    "        print(x-1)\n",
    "else:\n",
    "    print(x)"
   ]
  },
  {
   "attachments": {},
   "cell_type": "markdown",
   "metadata": {},
   "source": [
    "### BMI calculator"
   ]
  },
  {
   "cell_type": "code",
   "execution_count": 42,
   "metadata": {},
   "outputs": [
    {
     "name": "stdout",
     "output_type": "stream",
     "text": [
      "23.545706371191137\n",
      "normal\n"
     ]
    }
   ],
   "source": [
    "# This code takes a person's weight and height as input and outputs the corresponding BMI category\n",
    "height = float(input())\n",
    "weight = int(input())\n",
    "formula = weight/height**2\n",
    "print(formula)\n",
    "if formula < 18.5:\n",
    "    print(\"underweight\")\n",
    "elif formula >= 18.5 and formula < 25:\n",
    "    print(\"normal\")\n",
    "elif formula >= 25 and formula < 30:\n",
    "    print(\"overweight\")\n",
    "elif formula >= 30:\n",
    "    print(\"obese\")"
   ]
  },
  {
   "attachments": {},
   "cell_type": "markdown",
   "metadata": {},
   "source": [
    "## Lists"
   ]
  },
  {
   "cell_type": "code",
   "execution_count": 44,
   "metadata": {},
   "outputs": [
    {
     "name": "stdout",
     "output_type": "stream",
     "text": [
      "Hello\n",
      "World\n",
      "!\n"
     ]
    }
   ],
   "source": [
    "words = [\"Hello\", \"World\", \"!\"]\n",
    "print(words[0])\n",
    "print(words[1])\n",
    "print(words[2])"
   ]
  },
  {
   "cell_type": "code",
   "execution_count": 48,
   "metadata": {},
   "outputs": [
    {
     "name": "stdout",
     "output_type": "stream",
     "text": [
      "8\n"
     ]
    }
   ],
   "source": [
    "things=[\"text\", 0,[1,2,8],4.56]\n",
    "print(things[2][2])"
   ]
  },
  {
   "cell_type": "code",
   "execution_count": 51,
   "metadata": {},
   "outputs": [
    {
     "name": "stdout",
     "output_type": "stream",
     "text": [
      "[5, 42, 2]\n"
     ]
    }
   ],
   "source": [
    "nums = [5, 8, 2]\n",
    "nums[1]=42\n",
    "print(nums)"
   ]
  },
  {
   "cell_type": "code",
   "execution_count": 53,
   "metadata": {},
   "outputs": [
    {
     "name": "stdout",
     "output_type": "stream",
     "text": [
      "[1, 2, 3, 4, 5, 6]\n"
     ]
    }
   ],
   "source": [
    "nums = [1, 2, 3]\n",
    "print(nums + [4, 5, 6])"
   ]
  },
  {
   "cell_type": "code",
   "execution_count": 56,
   "metadata": {},
   "outputs": [
    {
     "name": "stdout",
     "output_type": "stream",
     "text": [
      "3\n"
     ]
    }
   ],
   "source": [
    "x = [2, 4]\n",
    "x += [6, 8]\n",
    "print(x[2]//x[0])"
   ]
  },
  {
   "cell_type": "code",
   "execution_count": 57,
   "metadata": {},
   "outputs": [
    {
     "name": "stdout",
     "output_type": "stream",
     "text": [
      "4\n"
     ]
    }
   ],
   "source": [
    "x = [2, 4]\n",
    "x = x*3\n",
    "print(x[3])"
   ]
  },
  {
   "cell_type": "code",
   "execution_count": 58,
   "metadata": {},
   "outputs": [
    {
     "name": "stdout",
     "output_type": "stream",
     "text": [
      "True\n",
      "True\n",
      "False\n"
     ]
    }
   ],
   "source": [
    "words = [\"spam\",\"egg\",\"orange\",\"beef\"]\n",
    "print(\"spam\" in words)\n",
    "print(\"orange\" in words)\n",
    "print(\"sniper\" in words)"
   ]
  },
  {
   "cell_type": "code",
   "execution_count": 60,
   "metadata": {},
   "outputs": [
    {
     "name": "stdout",
     "output_type": "stream",
     "text": [
      "7\n"
     ]
    }
   ],
   "source": [
    "nums = [10, 9, 8, 7, 6, 5]\n",
    "nums[0] = nums[1]-5\n",
    "if 4 in nums:\n",
    "    print(nums[3])\n",
    "else:\n",
    "    print(nums[4])"
   ]
  },
  {
   "cell_type": "code",
   "execution_count": 61,
   "metadata": {},
   "outputs": [
    {
     "name": "stdout",
     "output_type": "stream",
     "text": [
      "True\n",
      "True\n",
      "False\n",
      "False\n"
     ]
    }
   ],
   "source": [
    "nums = [1, 2, 3]\n",
    "print(not 4 in nums)\n",
    "print(4 not in nums)\n",
    "print(not 3 in nums)\n",
    "print(3 not in nums)"
   ]
  },
  {
   "attachments": {},
   "cell_type": "markdown",
   "metadata": {},
   "source": [
    "### Bingo game"
   ]
  },
  {
   "cell_type": "code",
   "execution_count": 62,
   "metadata": {},
   "outputs": [
    {
     "name": "stdout",
     "output_type": "stream",
     "text": [
      "bingo\n"
     ]
    }
   ],
   "source": [
    "x = [42, 8, 7, 1, 0, 124, 8897, 555, 3, 67, 99]\n",
    "\n",
    "num = int(input())\n",
    "if num in x:\n",
    "    print(\"bingo\")"
   ]
  },
  {
   "cell_type": "code",
   "execution_count": 63,
   "metadata": {},
   "outputs": [
    {
     "name": "stdout",
     "output_type": "stream",
     "text": [
      "hello!\n",
      "world!\n",
      "spam!\n",
      "eggs!\n"
     ]
    }
   ],
   "source": [
    "words = [\"hello\", \"world\", \"spam\", \"eggs\"]\n",
    "for word in words:\n",
    "    print(word + \"!\")"
   ]
  },
  {
   "cell_type": "code",
   "execution_count": 64,
   "metadata": {},
   "outputs": [
    {
     "name": "stdout",
     "output_type": "stream",
     "text": [
      "8\n",
      "14\n",
      "6\n",
      "2\n"
     ]
    }
   ],
   "source": [
    "nums = [4, 7, 3, 1]\n",
    "for x in nums:\n",
    "    print(x*2)"
   ]
  },
  {
   "attachments": {},
   "cell_type": "markdown",
   "metadata": {},
   "source": [
    "### Counting letters in a list using for"
   ]
  },
  {
   "cell_type": "code",
   "execution_count": 69,
   "metadata": {},
   "outputs": [
    {
     "name": "stdout",
     "output_type": "stream",
     "text": [
      "2\n"
     ]
    }
   ],
   "source": [
    "str = \"testing for loops\"\n",
    "count = 0\n",
    "for x in str:\n",
    "    if (x == 't'):\n",
    "     count += 1\n",
    "print(count)"
   ]
  },
  {
   "attachments": {},
   "cell_type": "markdown",
   "metadata": {},
   "source": [
    "### Break in for loop"
   ]
  },
  {
   "cell_type": "code",
   "execution_count": 74,
   "metadata": {},
   "outputs": [
    {
     "name": "stdout",
     "output_type": "stream",
     "text": [
      "s\n",
      "o\n",
      "m\n",
      "e\n",
      " \n"
     ]
    }
   ],
   "source": [
    "text = \"some text\"\n",
    "for x in text:\n",
    "    if x == 't':\n",
    "        break\n",
    "    print(x)"
   ]
  },
  {
   "cell_type": "code",
   "execution_count": 76,
   "metadata": {},
   "outputs": [
    {
     "name": "stdout",
     "output_type": "stream",
     "text": [
      "5\n"
     ]
    }
   ],
   "source": [
    "\n",
    "list = [2, 3, 4, 5, 6, 7]\n",
    "\n",
    "for x in list:\n",
    "   if(x%2==1 and x>4):\n",
    "      print(x)\n",
    "      break"
   ]
  },
  {
   "attachments": {},
   "cell_type": "markdown",
   "metadata": {},
   "source": [
    "### List of numbers"
   ]
  },
  {
   "cell_type": "code",
   "execution_count": 77,
   "metadata": {},
   "outputs": [
    {
     "name": "stdout",
     "output_type": "stream",
     "text": [
      "9803\n"
     ]
    }
   ],
   "source": [
    "x = [42, 8, 7, 1, 0, 124, 8897, 555, 3, 67, 99]\n",
    "sum = 0\n",
    "for num in x:\n",
    "    sum += num\n",
    "print(sum)"
   ]
  },
  {
   "cell_type": "code",
   "execution_count": 79,
   "metadata": {},
   "outputs": [
    {
     "name": "stdout",
     "output_type": "stream",
     "text": [
      "4\n"
     ]
    }
   ],
   "source": [
    "nums = [1, 2, 3, 4]\n",
    "res = 0\n",
    "for x in nums:\n",
    "    if(x%2==0):\n",
    "        continue\n",
    "    else:\n",
    "        res += x\n",
    "        \n",
    "print(res)"
   ]
  },
  {
   "cell_type": "code",
   "execution_count": null,
   "metadata": {},
   "outputs": [],
   "source": []
  }
 ],
 "metadata": {
  "kernelspec": {
   "display_name": "Python 3",
   "language": "python",
   "name": "python3"
  },
  "language_info": {
   "codemirror_mode": {
    "name": "ipython",
    "version": 3
   },
   "file_extension": ".py",
   "mimetype": "text/x-python",
   "name": "python",
   "nbconvert_exporter": "python",
   "pygments_lexer": "ipython3",
   "version": "3.11.2"
  },
  "orig_nbformat": 4
 },
 "nbformat": 4,
 "nbformat_minor": 2
}
